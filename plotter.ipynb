{
 "cells": [
  {
   "cell_type": "code",
   "execution_count": 96,
   "metadata": {},
   "outputs": [],
   "source": [
    "import pandas as pd\n",
    "import seaborn as sns"
   ]
  },
  {
   "cell_type": "code",
   "execution_count": 97,
   "metadata": {},
   "outputs": [],
   "source": [
    "sns.set(style='whitegrid', font='Calibri',palette='Blues_r')"
   ]
  },
  {
   "cell_type": "code",
   "execution_count": 98,
   "metadata": {},
   "outputs": [],
   "source": [
    "df=pd.read_csv('data.csv', index_col=False)"
   ]
  },
  {
   "cell_type": "code",
   "execution_count": 99,
   "metadata": {},
   "outputs": [
    {
     "data": {
      "text/html": [
       "<div>\n",
       "<style scoped>\n",
       "    .dataframe tbody tr th:only-of-type {\n",
       "        vertical-align: middle;\n",
       "    }\n",
       "\n",
       "    .dataframe tbody tr th {\n",
       "        vertical-align: top;\n",
       "    }\n",
       "\n",
       "    .dataframe thead th {\n",
       "        text-align: right;\n",
       "    }\n",
       "</style>\n",
       "<table border=\"1\" class=\"dataframe\">\n",
       "  <thead>\n",
       "    <tr style=\"text-align: right;\">\n",
       "      <th></th>\n",
       "      <th>no of threads</th>\n",
       "      <th>execution time</th>\n",
       "      <th>fraction enhanced</th>\n",
       "      <th>speedup</th>\n",
       "    </tr>\n",
       "  </thead>\n",
       "  <tbody>\n",
       "    <tr>\n",
       "      <th>0</th>\n",
       "      <td>1</td>\n",
       "      <td>693.448</td>\n",
       "      <td>0.999948</td>\n",
       "      <td>1.00000</td>\n",
       "    </tr>\n",
       "    <tr>\n",
       "      <th>1</th>\n",
       "      <td>2</td>\n",
       "      <td>321.256</td>\n",
       "      <td>0.999851</td>\n",
       "      <td>2.15876</td>\n",
       "    </tr>\n",
       "    <tr>\n",
       "      <th>2</th>\n",
       "      <td>4</td>\n",
       "      <td>212.236</td>\n",
       "      <td>0.999812</td>\n",
       "      <td>3.26779</td>\n",
       "    </tr>\n",
       "    <tr>\n",
       "      <th>3</th>\n",
       "      <td>6</td>\n",
       "      <td>203.887</td>\n",
       "      <td>0.999819</td>\n",
       "      <td>3.40158</td>\n",
       "    </tr>\n",
       "    <tr>\n",
       "      <th>4</th>\n",
       "      <td>8</td>\n",
       "      <td>183.819</td>\n",
       "      <td>0.999799</td>\n",
       "      <td>3.77301</td>\n",
       "    </tr>\n",
       "    <tr>\n",
       "      <th>5</th>\n",
       "      <td>12</td>\n",
       "      <td>136.859</td>\n",
       "      <td>0.999890</td>\n",
       "      <td>5.06717</td>\n",
       "    </tr>\n",
       "    <tr>\n",
       "      <th>6</th>\n",
       "      <td>16</td>\n",
       "      <td>120.143</td>\n",
       "      <td>0.999875</td>\n",
       "      <td>5.77228</td>\n",
       "    </tr>\n",
       "    <tr>\n",
       "      <th>7</th>\n",
       "      <td>24</td>\n",
       "      <td>120.090</td>\n",
       "      <td>0.999734</td>\n",
       "      <td>5.77564</td>\n",
       "    </tr>\n",
       "    <tr>\n",
       "      <th>8</th>\n",
       "      <td>32</td>\n",
       "      <td>117.968</td>\n",
       "      <td>0.999737</td>\n",
       "      <td>5.87951</td>\n",
       "    </tr>\n",
       "  </tbody>\n",
       "</table>\n",
       "</div>"
      ],
      "text/plain": [
       "   no of threads  execution time  fraction enhanced  speedup\n",
       "0              1         693.448           0.999948  1.00000\n",
       "1              2         321.256           0.999851  2.15876\n",
       "2              4         212.236           0.999812  3.26779\n",
       "3              6         203.887           0.999819  3.40158\n",
       "4              8         183.819           0.999799  3.77301\n",
       "5             12         136.859           0.999890  5.06717\n",
       "6             16         120.143           0.999875  5.77228\n",
       "7             24         120.090           0.999734  5.77564\n",
       "8             32         117.968           0.999737  5.87951"
      ]
     },
     "execution_count": 99,
     "metadata": {},
     "output_type": "execute_result"
    }
   ],
   "source": [
    "df"
   ]
  },
  {
   "cell_type": "code",
   "execution_count": 100,
   "metadata": {},
   "outputs": [],
   "source": [
    "df[\"amdhal speedup\"]=1/((1-df[\"fraction enhanced\"])+(df[\"fraction enhanced\"]/df[\"speedup\"]))"
   ]
  },
  {
   "cell_type": "code",
   "execution_count": 101,
   "metadata": {},
   "outputs": [
    {
     "data": {
      "text/html": [
       "<div>\n",
       "<style scoped>\n",
       "    .dataframe tbody tr th:only-of-type {\n",
       "        vertical-align: middle;\n",
       "    }\n",
       "\n",
       "    .dataframe tbody tr th {\n",
       "        vertical-align: top;\n",
       "    }\n",
       "\n",
       "    .dataframe thead th {\n",
       "        text-align: right;\n",
       "    }\n",
       "</style>\n",
       "<table border=\"1\" class=\"dataframe\">\n",
       "  <thead>\n",
       "    <tr style=\"text-align: right;\">\n",
       "      <th></th>\n",
       "      <th>no of threads</th>\n",
       "      <th>execution time</th>\n",
       "      <th>fraction enhanced</th>\n",
       "      <th>speedup</th>\n",
       "      <th>amdhal speedup</th>\n",
       "    </tr>\n",
       "  </thead>\n",
       "  <tbody>\n",
       "    <tr>\n",
       "      <th>0</th>\n",
       "      <td>1</td>\n",
       "      <td>693.448</td>\n",
       "      <td>0.999948</td>\n",
       "      <td>1.00000</td>\n",
       "      <td>1.000000</td>\n",
       "    </tr>\n",
       "    <tr>\n",
       "      <th>1</th>\n",
       "      <td>2</td>\n",
       "      <td>321.256</td>\n",
       "      <td>0.999851</td>\n",
       "      <td>2.15876</td>\n",
       "      <td>2.158387</td>\n",
       "    </tr>\n",
       "    <tr>\n",
       "      <th>2</th>\n",
       "      <td>4</td>\n",
       "      <td>212.236</td>\n",
       "      <td>0.999812</td>\n",
       "      <td>3.26779</td>\n",
       "      <td>3.266397</td>\n",
       "    </tr>\n",
       "    <tr>\n",
       "      <th>3</th>\n",
       "      <td>6</td>\n",
       "      <td>203.887</td>\n",
       "      <td>0.999819</td>\n",
       "      <td>3.40158</td>\n",
       "      <td>3.400102</td>\n",
       "    </tr>\n",
       "    <tr>\n",
       "      <th>4</th>\n",
       "      <td>8</td>\n",
       "      <td>183.819</td>\n",
       "      <td>0.999799</td>\n",
       "      <td>3.77301</td>\n",
       "      <td>3.770908</td>\n",
       "    </tr>\n",
       "    <tr>\n",
       "      <th>5</th>\n",
       "      <td>12</td>\n",
       "      <td>136.859</td>\n",
       "      <td>0.999890</td>\n",
       "      <td>5.06717</td>\n",
       "      <td>5.064904</td>\n",
       "    </tr>\n",
       "    <tr>\n",
       "      <th>6</th>\n",
       "      <td>16</td>\n",
       "      <td>120.143</td>\n",
       "      <td>0.999875</td>\n",
       "      <td>5.77228</td>\n",
       "      <td>5.768839</td>\n",
       "    </tr>\n",
       "    <tr>\n",
       "      <th>7</th>\n",
       "      <td>24</td>\n",
       "      <td>120.090</td>\n",
       "      <td>0.999734</td>\n",
       "      <td>5.77564</td>\n",
       "      <td>5.768312</td>\n",
       "    </tr>\n",
       "    <tr>\n",
       "      <th>8</th>\n",
       "      <td>32</td>\n",
       "      <td>117.968</td>\n",
       "      <td>0.999737</td>\n",
       "      <td>5.87951</td>\n",
       "      <td>5.871974</td>\n",
       "    </tr>\n",
       "  </tbody>\n",
       "</table>\n",
       "</div>"
      ],
      "text/plain": [
       "   no of threads  execution time  fraction enhanced  speedup  amdhal speedup\n",
       "0              1         693.448           0.999948  1.00000        1.000000\n",
       "1              2         321.256           0.999851  2.15876        2.158387\n",
       "2              4         212.236           0.999812  3.26779        3.266397\n",
       "3              6         203.887           0.999819  3.40158        3.400102\n",
       "4              8         183.819           0.999799  3.77301        3.770908\n",
       "5             12         136.859           0.999890  5.06717        5.064904\n",
       "6             16         120.143           0.999875  5.77228        5.768839\n",
       "7             24         120.090           0.999734  5.77564        5.768312\n",
       "8             32         117.968           0.999737  5.87951        5.871974"
      ]
     },
     "execution_count": 101,
     "metadata": {},
     "output_type": "execute_result"
    }
   ],
   "source": [
    "df"
   ]
  },
  {
   "cell_type": "code",
   "execution_count": 102,
   "metadata": {},
   "outputs": [
    {
     "data": {
      "image/png": "[encoded data removed]",
      "text/plain": [
       "<Figure size 432x288 with 1 Axes>"
      ]
     },
     "metadata": {},
     "output_type": "display_data"
    }
   ],
   "source": [
    "amdahl_plot=sns.lineplot(x='no of threads',y='amdhal speedup', data=df,marker=\"o\")"
   ]
  },
  {
   "cell_type": "code",
   "execution_count": 103,
   "metadata": {},
   "outputs": [],
   "source": [
    "sns.set(style='whitegrid', font='Calibri',palette='Reds_r')"
   ]
  },
  {
   "cell_type": "code",
   "execution_count": 104,
   "metadata": {},
   "outputs": [],
   "source": [
    "df[\"gustafson speedup\"]=1-df[\"fraction enhanced\"]+(df[\"no of threads\"]*df[\"fraction enhanced\"])"
   ]
  },
  {
   "cell_type": "code",
   "execution_count": 105,
   "metadata": {},
   "outputs": [
    {
     "data": {
      "text/html": [
       "<div>\n",
       "<style scoped>\n",
       "    .dataframe tbody tr th:only-of-type {\n",
       "        vertical-align: middle;\n",
       "    }\n",
       "\n",
       "    .dataframe tbody tr th {\n",
       "        vertical-align: top;\n",
       "    }\n",
       "\n",
       "    .dataframe thead th {\n",
       "        text-align: right;\n",
       "    }\n",
       "</style>\n",
       "<table border=\"1\" class=\"dataframe\">\n",
       "  <thead>\n",
       "    <tr style=\"text-align: right;\">\n",
       "      <th></th>\n",
       "      <th>no of threads</th>\n",
       "      <th>execution time</th>\n",
       "      <th>fraction enhanced</th>\n",
       "      <th>speedup</th>\n",
       "      <th>amdhal speedup</th>\n",
       "      <th>gustafson speedup</th>\n",
       "    </tr>\n",
       "  </thead>\n",
       "  <tbody>\n",
       "    <tr>\n",
       "      <th>0</th>\n",
       "      <td>1</td>\n",
       "      <td>693.448</td>\n",
       "      <td>0.999948</td>\n",
       "      <td>1.00000</td>\n",
       "      <td>1.000000</td>\n",
       "      <td>1.000000</td>\n",
       "    </tr>\n",
       "    <tr>\n",
       "      <th>1</th>\n",
       "      <td>2</td>\n",
       "      <td>321.256</td>\n",
       "      <td>0.999851</td>\n",
       "      <td>2.15876</td>\n",
       "      <td>2.158387</td>\n",
       "      <td>1.999851</td>\n",
       "    </tr>\n",
       "    <tr>\n",
       "      <th>2</th>\n",
       "      <td>4</td>\n",
       "      <td>212.236</td>\n",
       "      <td>0.999812</td>\n",
       "      <td>3.26779</td>\n",
       "      <td>3.266397</td>\n",
       "      <td>3.999436</td>\n",
       "    </tr>\n",
       "    <tr>\n",
       "      <th>3</th>\n",
       "      <td>6</td>\n",
       "      <td>203.887</td>\n",
       "      <td>0.999819</td>\n",
       "      <td>3.40158</td>\n",
       "      <td>3.400102</td>\n",
       "      <td>5.999095</td>\n",
       "    </tr>\n",
       "    <tr>\n",
       "      <th>4</th>\n",
       "      <td>8</td>\n",
       "      <td>183.819</td>\n",
       "      <td>0.999799</td>\n",
       "      <td>3.77301</td>\n",
       "      <td>3.770908</td>\n",
       "      <td>7.998593</td>\n",
       "    </tr>\n",
       "    <tr>\n",
       "      <th>5</th>\n",
       "      <td>12</td>\n",
       "      <td>136.859</td>\n",
       "      <td>0.999890</td>\n",
       "      <td>5.06717</td>\n",
       "      <td>5.064904</td>\n",
       "      <td>11.998790</td>\n",
       "    </tr>\n",
       "    <tr>\n",
       "      <th>6</th>\n",
       "      <td>16</td>\n",
       "      <td>120.143</td>\n",
       "      <td>0.999875</td>\n",
       "      <td>5.77228</td>\n",
       "      <td>5.768839</td>\n",
       "      <td>15.998125</td>\n",
       "    </tr>\n",
       "    <tr>\n",
       "      <th>7</th>\n",
       "      <td>24</td>\n",
       "      <td>120.090</td>\n",
       "      <td>0.999734</td>\n",
       "      <td>5.77564</td>\n",
       "      <td>5.768312</td>\n",
       "      <td>23.993882</td>\n",
       "    </tr>\n",
       "    <tr>\n",
       "      <th>8</th>\n",
       "      <td>32</td>\n",
       "      <td>117.968</td>\n",
       "      <td>0.999737</td>\n",
       "      <td>5.87951</td>\n",
       "      <td>5.871974</td>\n",
       "      <td>31.991847</td>\n",
       "    </tr>\n",
       "  </tbody>\n",
       "</table>\n",
       "</div>"
      ],
      "text/plain": [
       "   no of threads  execution time  fraction enhanced  speedup  amdhal speedup  \\\n",
       "0              1         693.448           0.999948  1.00000        1.000000   \n",
       "1              2         321.256           0.999851  2.15876        2.158387   \n",
       "2              4         212.236           0.999812  3.26779        3.266397   \n",
       "3              6         203.887           0.999819  3.40158        3.400102   \n",
       "4              8         183.819           0.999799  3.77301        3.770908   \n",
       "5             12         136.859           0.999890  5.06717        5.064904   \n",
       "6             16         120.143           0.999875  5.77228        5.768839   \n",
       "7             24         120.090           0.999734  5.77564        5.768312   \n",
       "8             32         117.968           0.999737  5.87951        5.871974   \n",
       "\n",
       "   gustafson speedup  \n",
       "0           1.000000  \n",
       "1           1.999851  \n",
       "2           3.999436  \n",
       "3           5.999095  \n",
       "4           7.998593  \n",
       "5          11.998790  \n",
       "6          15.998125  \n",
       "7          23.993882  \n",
       "8          31.991847  "
      ]
     },
     "execution_count": 105,
     "metadata": {},
     "output_type": "execute_result"
    }
   ],
   "source": [
    "df"
   ]
  },
  {
   "cell_type": "code",
   "execution_count": 106,
   "metadata": {
    "scrolled": true
   },
   "outputs": [
    {
     "data": {
      "image/png": "[encoded data removed]",
      "text/plain": [
       "<Figure size 432x288 with 1 Axes>"
      ]
     },
     "metadata": {},
     "output_type": "display_data"
    }
   ],
   "source": [
    "gustaf_plot=sns.lineplot(x='no of threads',y='gustafson speedup', data=df,marker=\"o\")"
   ]
  },
  {
   "cell_type": "code",
   "execution_count": 107,
   "metadata": {},
   "outputs": [],
   "source": [
    "amd_fig=amdahl_plot.get_figure()\n",
    "amd_fig.savefig('Graphs/amdahl.jpg')"
   ]
  },
  {
   "cell_type": "code",
   "execution_count": 108,
   "metadata": {},
   "outputs": [],
   "source": [
    "gus_fig=gustaf_plot.get_figure()\n",
    "gus_fig.savefig('Graphs/gustaf.jpg')"
   ]
  },
  {
   "cell_type": "code",
   "execution_count": null,
   "metadata": {},
   "outputs": [],
   "source": []
  },
  {
   "cell_type": "code",
   "execution_count": 82,
   "metadata": {},
   "outputs": [],
   "source": []
  },
  {
   "cell_type": "code",
   "execution_count": null,
   "metadata": {},
   "outputs": [],
   "source": []
  }
 ],
 "metadata": {
  "kernelspec": {
   "display_name": "Python 3",
   "language": "python",
   "name": "python3"
  },
  "language_info": {
   "codemirror_mode": {
    "name": "ipython",
    "version": 3
   },
   "file_extension": ".py",
   "mimetype": "text/x-python",
   "name": "python",
   "nbconvert_exporter": "python",
   "pygments_lexer": "ipython3",
   "version": "3.7.0"
  }
 },
 "nbformat": 4,
 "nbformat_minor": 2
}
